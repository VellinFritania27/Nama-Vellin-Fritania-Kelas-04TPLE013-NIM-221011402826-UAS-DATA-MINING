{
 "cells": [
  {
   "cell_type": "code",
   "execution_count": 2,
   "id": "389ae646-988e-4887-9811-5fa5001bfd41",
   "metadata": {},
   "outputs": [],
   "source": [
    "import pandas as pd\n",
    "import matplotlib.pyplot as plt"
   ]
  },
  {
   "cell_type": "code",
   "execution_count": 7,
   "id": "5b9ecb66-533d-4902-85a2-021a8a9623fd",
   "metadata": {},
   "outputs": [],
   "source": [
    "dfmhs = pd.read_csv('nilaimahasiswa.csv', sep=';', engine='python')"
   ]
  },
  {
   "cell_type": "code",
   "execution_count": 9,
   "id": "7e3f6538-236c-4fcb-823e-4c94345597f0",
   "metadata": {},
   "outputs": [
    {
     "data": {
      "text/html": [
       "<div>\n",
       "<style scoped>\n",
       "    .dataframe tbody tr th:only-of-type {\n",
       "        vertical-align: middle;\n",
       "    }\n",
       "\n",
       "    .dataframe tbody tr th {\n",
       "        vertical-align: top;\n",
       "    }\n",
       "\n",
       "    .dataframe thead th {\n",
       "        text-align: right;\n",
       "    }\n",
       "</style>\n",
       "<table border=\"1\" class=\"dataframe\">\n",
       "  <thead>\n",
       "    <tr style=\"text-align: right;\">\n",
       "      <th></th>\n",
       "      <th>uts</th>\n",
       "      <th>uas</th>\n",
       "    </tr>\n",
       "  </thead>\n",
       "  <tbody>\n",
       "    <tr>\n",
       "      <th>count</th>\n",
       "      <td>50.000000</td>\n",
       "      <td>50.000000</td>\n",
       "    </tr>\n",
       "    <tr>\n",
       "      <th>mean</th>\n",
       "      <td>56.220000</td>\n",
       "      <td>60.960000</td>\n",
       "    </tr>\n",
       "    <tr>\n",
       "      <th>std</th>\n",
       "      <td>27.316953</td>\n",
       "      <td>25.235996</td>\n",
       "    </tr>\n",
       "    <tr>\n",
       "      <th>min</th>\n",
       "      <td>12.000000</td>\n",
       "      <td>0.000000</td>\n",
       "    </tr>\n",
       "    <tr>\n",
       "      <th>25%</th>\n",
       "      <td>30.250000</td>\n",
       "      <td>45.000000</td>\n",
       "    </tr>\n",
       "    <tr>\n",
       "      <th>50%</th>\n",
       "      <td>55.000000</td>\n",
       "      <td>56.000000</td>\n",
       "    </tr>\n",
       "    <tr>\n",
       "      <th>75%</th>\n",
       "      <td>71.500000</td>\n",
       "      <td>81.000000</td>\n",
       "    </tr>\n",
       "    <tr>\n",
       "      <th>max</th>\n",
       "      <td>100.000000</td>\n",
       "      <td>100.000000</td>\n",
       "    </tr>\n",
       "  </tbody>\n",
       "</table>\n",
       "</div>"
      ],
      "text/plain": [
       "              uts         uas\n",
       "count   50.000000   50.000000\n",
       "mean    56.220000   60.960000\n",
       "std     27.316953   25.235996\n",
       "min     12.000000    0.000000\n",
       "25%     30.250000   45.000000\n",
       "50%     55.000000   56.000000\n",
       "75%     71.500000   81.000000\n",
       "max    100.000000  100.000000"
      ]
     },
     "execution_count": 9,
     "metadata": {},
     "output_type": "execute_result"
    }
   ],
   "source": [
    "dfmhs.describe()"
   ]
  },
  {
   "cell_type": "code",
   "execution_count": 11,
   "id": "215b355c-c9c3-4b49-9dde-087c86e546e2",
   "metadata": {},
   "outputs": [
    {
     "name": "stdout",
     "output_type": "stream",
     "text": [
      "<class 'pandas.core.frame.DataFrame'>\n",
      "RangeIndex: 50 entries, 0 to 49\n",
      "Data columns (total 3 columns):\n",
      " #   Column     Non-Null Count  Dtype \n",
      "---  ------     --------------  ----- \n",
      " 0   Mahasiswa  50 non-null     object\n",
      " 1   uts        50 non-null     int64 \n",
      " 2   uas        50 non-null     int64 \n",
      "dtypes: int64(2), object(1)\n",
      "memory usage: 1.3+ KB\n"
     ]
    }
   ],
   "source": [
    "dfmhs.info()"
   ]
  },
  {
   "cell_type": "code",
   "execution_count": 15,
   "id": "6f842887-a04b-4183-9727-848b0028ca1b",
   "metadata": {},
   "outputs": [
    {
     "data": {
      "text/plain": [
       "Text(0.5, 1.0, 'Grafik Nilai Mahasiswa')"
      ]
     },
     "execution_count": 15,
     "metadata": {},
     "output_type": "execute_result"
    },
    {
     "data": {
      "image/png": "[encoded data removed]",
      "text/plain": [
       "<Figure size 640x480 with 1 Axes>"
      ]
     },
     "metadata": {},
     "output_type": "display_data"
    }
   ],
   "source": [
    "plt.scatter(dfmhs['uts'], dfmhs['uas'])\n",
    "plt.xlabel(\"uts\")\n",
    "plt.ylabel(\"uas\")\n",
    "plt.title(\"Grafik Nilai Mahasiswa\")"
   ]
  },
  {
   "cell_type": "code",
   "execution_count": 17,
   "id": "7a337d1b-2759-49ed-a2f1-c36c31b29c78",
   "metadata": {},
   "outputs": [],
   "source": [
    "#Membuat Data Training"
   ]
  },
  {
   "cell_type": "code",
   "execution_count": 19,
   "id": "8d74bf28-2a69-412a-a2bd-ab439f999552",
   "metadata": {},
   "outputs": [],
   "source": [
    "x_train = dfmhs [['uts', 'uas']].values"
   ]
  },
  {
   "cell_type": "code",
   "execution_count": 21,
   "id": "b28eea35-c7e0-4402-b99b-286836797985",
   "metadata": {},
   "outputs": [],
   "source": [
    "#FeatureScaling"
   ]
  },
  {
   "cell_type": "code",
   "execution_count": 23,
   "id": "72ce9d02-bd37-4004-8bbf-c8c5ec487918",
   "metadata": {},
   "outputs": [],
   "source": [
    "from sklearn.preprocessing import MinMaxScaler\n",
    "scaler = MinMaxScaler()\n",
    "x_train = scaler.fit_transform(x_train)"
   ]
  },
  {
   "cell_type": "code",
   "execution_count": 25,
   "id": "d5dc88da-a76b-467e-9978-6d5d104241e0",
   "metadata": {},
   "outputs": [
    {
     "data": {
      "text/plain": [
       "array([[0.03409091, 0.46      ],\n",
       "       [0.61363636, 0.77      ],\n",
       "       [0.14772727, 0.33      ],\n",
       "       [0.46590909, 0.81      ],\n",
       "       [0.09090909, 0.75      ],\n",
       "       [1.        , 0.94      ],\n",
       "       [0.48863636, 0.69      ],\n",
       "       [0.14772727, 0.56      ],\n",
       "       [0.14772727, 0.81      ],\n",
       "       [0.20454545, 0.48      ],\n",
       "       [0.03409091, 0.45      ],\n",
       "       [0.78409091, 0.46      ],\n",
       "       [0.63636364, 0.77      ],\n",
       "       [0.68181818, 0.5       ],\n",
       "       [0.5       , 0.56      ],\n",
       "       [0.57954545, 0.63      ],\n",
       "       [1.        , 0.69      ],\n",
       "       [0.26136364, 0.56      ],\n",
       "       [0.48863636, 0.33      ],\n",
       "       [0.21590909, 0.21      ],\n",
       "       [0.48863636, 0.22      ],\n",
       "       [0.65909091, 0.85      ],\n",
       "       [0.20454545, 0.15      ],\n",
       "       [0.14772727, 0.81      ],\n",
       "       [0.        , 0.42      ],\n",
       "       [0.09090909, 0.24      ],\n",
       "       [0.68181818, 0.94      ],\n",
       "       [0.14772727, 0.        ],\n",
       "       [0.89772727, 0.54      ],\n",
       "       [0.54545455, 0.88      ],\n",
       "       [0.375     , 0.54      ],\n",
       "       [0.65909091, 0.56      ],\n",
       "       [1.        , 0.63      ],\n",
       "       [0.375     , 0.45      ],\n",
       "       [0.375     , 0.54      ],\n",
       "       [0.65909091, 0.88      ],\n",
       "       [0.375     , 0.45      ],\n",
       "       [0.65909091, 0.2       ],\n",
       "       [1.        , 0.81      ],\n",
       "       [1.        , 0.96      ],\n",
       "       [1.        , 1.        ],\n",
       "       [0.375     , 0.38      ],\n",
       "       [0.61363636, 0.88      ],\n",
       "       [1.        , 0.96      ],\n",
       "       [0.47727273, 0.98      ],\n",
       "       [0.09090909, 0.45      ],\n",
       "       [0.89772727, 0.96      ],\n",
       "       [0.32954545, 0.54      ],\n",
       "       [0.65909091, 0.88      ],\n",
       "       [0.81818182, 0.62      ]])"
      ]
     },
     "execution_count": 25,
     "metadata": {},
     "output_type": "execute_result"
    }
   ],
   "source": [
    "x_train"
   ]
  },
  {
   "cell_type": "code",
   "execution_count": 27,
   "id": "00247391-5387-4975-b81e-686f1d17f2fe",
   "metadata": {},
   "outputs": [],
   "source": [
    "#Clustering"
   ]
  },
  {
   "cell_type": "code",
   "execution_count": 31,
   "id": "8436b5c2-8c7c-4960-a275-aae6612f75de",
   "metadata": {},
   "outputs": [
    {
     "data": {
      "text/html": [
       "<style>#sk-container-id-1 {color: black;}#sk-container-id-1 pre{padding: 0;}#sk-container-id-1 div.sk-toggleable {background-color: white;}#sk-container-id-1 label.sk-toggleable__label {cursor: pointer;display: block;width: 100%;margin-bottom: 0;padding: 0.3em;box-sizing: border-box;text-align: center;}#sk-container-id-1 label.sk-toggleable__label-arrow:before {content: \"▸\";float: left;margin-right: 0.25em;color: #696969;}#sk-container-id-1 label.sk-toggleable__label-arrow:hover:before {color: black;}#sk-container-id-1 div.sk-estimator:hover label.sk-toggleable__label-arrow:before {color: black;}#sk-container-id-1 div.sk-toggleable__content {max-height: 0;max-width: 0;overflow: hidden;text-align: left;background-color: #f0f8ff;}#sk-container-id-1 div.sk-toggleable__content pre {margin: 0.2em;color: black;border-radius: 0.25em;background-color: #f0f8ff;}#sk-container-id-1 input.sk-toggleable__control:checked~div.sk-toggleable__content {max-height: 200px;max-width: 100%;overflow: auto;}#sk-container-id-1 input.sk-toggleable__control:checked~label.sk-toggleable__label-arrow:before {content: \"▾\";}#sk-container-id-1 div.sk-estimator input.sk-toggleable__control:checked~label.sk-toggleable__label {background-color: #d4ebff;}#sk-container-id-1 div.sk-label input.sk-toggleable__control:checked~label.sk-toggleable__label {background-color: #d4ebff;}#sk-container-id-1 input.sk-hidden--visually {border: 0;clip: rect(1px 1px 1px 1px);clip: rect(1px, 1px, 1px, 1px);height: 1px;margin: -1px;overflow: hidden;padding: 0;position: absolute;width: 1px;}#sk-container-id-1 div.sk-estimator {font-family: monospace;background-color: #f0f8ff;border: 1px dotted black;border-radius: 0.25em;box-sizing: border-box;margin-bottom: 0.5em;}#sk-container-id-1 div.sk-estimator:hover {background-color: #d4ebff;}#sk-container-id-1 div.sk-parallel-item::after {content: \"\";width: 100%;border-bottom: 1px solid gray;flex-grow: 1;}#sk-container-id-1 div.sk-label:hover label.sk-toggleable__label {background-color: #d4ebff;}#sk-container-id-1 div.sk-serial::before {content: \"\";position: absolute;border-left: 1px solid gray;box-sizing: border-box;top: 0;bottom: 0;left: 50%;z-index: 0;}#sk-container-id-1 div.sk-serial {display: flex;flex-direction: column;align-items: center;background-color: white;padding-right: 0.2em;padding-left: 0.2em;position: relative;}#sk-container-id-1 div.sk-item {position: relative;z-index: 1;}#sk-container-id-1 div.sk-parallel {display: flex;align-items: stretch;justify-content: center;background-color: white;position: relative;}#sk-container-id-1 div.sk-item::before, #sk-container-id-1 div.sk-parallel-item::before {content: \"\";position: absolute;border-left: 1px solid gray;box-sizing: border-box;top: 0;bottom: 0;left: 50%;z-index: -1;}#sk-container-id-1 div.sk-parallel-item {display: flex;flex-direction: column;z-index: 1;position: relative;background-color: white;}#sk-container-id-1 div.sk-parallel-item:first-child::after {align-self: flex-end;width: 50%;}#sk-container-id-1 div.sk-parallel-item:last-child::after {align-self: flex-start;width: 50%;}#sk-container-id-1 div.sk-parallel-item:only-child::after {width: 0;}#sk-container-id-1 div.sk-dashed-wrapped {border: 1px dashed gray;margin: 0 0.4em 0.5em 0.4em;box-sizing: border-box;padding-bottom: 0.4em;background-color: white;}#sk-container-id-1 div.sk-label label {font-family: monospace;font-weight: bold;display: inline-block;line-height: 1.2em;}#sk-container-id-1 div.sk-label-container {text-align: center;}#sk-container-id-1 div.sk-container {/* jupyter's `normalize.less` sets `[hidden] { display: none; }` but bootstrap.min.css set `[hidden] { display: none !important; }` so we also need the `!important` here to be able to override the default hidden behavior on the sphinx rendered scikit-learn.org. See: https://github.com/scikit-learn/scikit-learn/issues/21755 */display: inline-block !important;position: relative;}#sk-container-id-1 div.sk-text-repr-fallback {display: none;}</style><div id=\"sk-container-id-1\" class=\"sk-top-container\"><div class=\"sk-text-repr-fallback\"><pre>KMeans(n_clusters=3)</pre><b>In a Jupyter environment, please rerun this cell to show the HTML representation or trust the notebook. <br />On GitHub, the HTML representation is unable to render, please try loading this page with nbviewer.org.</b></div><div class=\"sk-container\" hidden><div class=\"sk-item\"><div class=\"sk-estimator sk-toggleable\"><input class=\"sk-toggleable__control sk-hidden--visually\" id=\"sk-estimator-id-1\" type=\"checkbox\" checked><label for=\"sk-estimator-id-1\" class=\"sk-toggleable__label sk-toggleable__label-arrow\">KMeans</label><div class=\"sk-toggleable__content\"><pre>KMeans(n_clusters=3)</pre></div></div></div></div></div>"
      ],
      "text/plain": [
       "KMeans(n_clusters=3)"
      ]
     },
     "execution_count": 31,
     "metadata": {},
     "output_type": "execute_result"
    }
   ],
   "source": [
    "from sklearn.cluster import KMeans\n",
    "kmean = KMeans(n_clusters=3)\n",
    "kmean"
   ]
  },
  {
   "cell_type": "code",
   "execution_count": 12,
   "id": "b03e9c51-7d16-4c93-a458-bc6436f1e923",
   "metadata": {},
   "outputs": [
    {
     "name": "stdout",
     "output_type": "stream",
     "text": [
      "Cluster labels: [1 0 0]\n"
     ]
    }
   ],
   "source": [
    "from sklearn.cluster import KMeans\n",
    "import numpy as np\n",
    "import os\n",
    "os.environ[\"LOKY_MAX_CPU_COUNT\"] = \"1\"\n",
    "\n",
    "zx_train = np.array([[1, 2], [3, 4], [5, 6]])\n",
    "kmeans = KMeans(n_clusters=2, n_init=10)\n",
    "y_cluster = kmeans.fit_predict(zx_train)\n",
    "\n",
    "print(\"Cluster labels:\", y_cluster)"
   ]
  },
  {
   "cell_type": "code",
   "execution_count": 35,
   "id": "ccf5a878-cb91-42e8-9e0b-e1bc6c18a831",
   "metadata": {},
   "outputs": [
    {
     "data": {
      "text/plain": [
       "array([0, 2, 0, 2, 0, 1, 2, 0, 0, 0, 0, 2, 2, 2, 2, 2, 1, 0, 0, 0, 0, 2,\n",
       "       0, 0, 0, 0, 2, 0, 1, 2, 0, 2, 1, 0, 0, 2, 0, 0, 1, 1, 1, 0, 2, 1,\n",
       "       2, 0, 1, 0, 2, 2], dtype=int32)"
      ]
     },
     "execution_count": 35,
     "metadata": {},
     "output_type": "execute_result"
    }
   ],
   "source": [
    "y_cluster"
   ]
  },
  {
   "cell_type": "code",
   "execution_count": 37,
   "id": "0478b3d6-fe05-4596-afa5-e3e5d7d2377c",
   "metadata": {},
   "outputs": [],
   "source": [
    "dfmhs['Cluster'] = y_cluster"
   ]
  },
  {
   "cell_type": "code",
   "execution_count": 39,
   "id": "b4756441-412b-4491-889c-da6a03bd386d",
   "metadata": {},
   "outputs": [
    {
     "data": {
      "text/html": [
       "<div>\n",
       "<style scoped>\n",
       "    .dataframe tbody tr th:only-of-type {\n",
       "        vertical-align: middle;\n",
       "    }\n",
       "\n",
       "    .dataframe tbody tr th {\n",
       "        vertical-align: top;\n",
       "    }\n",
       "\n",
       "    .dataframe thead th {\n",
       "        text-align: right;\n",
       "    }\n",
       "</style>\n",
       "<table border=\"1\" class=\"dataframe\">\n",
       "  <thead>\n",
       "    <tr style=\"text-align: right;\">\n",
       "      <th></th>\n",
       "      <th>Mahasiswa</th>\n",
       "      <th>uts</th>\n",
       "      <th>uas</th>\n",
       "      <th>Cluster</th>\n",
       "    </tr>\n",
       "  </thead>\n",
       "  <tbody>\n",
       "    <tr>\n",
       "      <th>0</th>\n",
       "      <td>AHMAD</td>\n",
       "      <td>15</td>\n",
       "      <td>46</td>\n",
       "      <td>0</td>\n",
       "    </tr>\n",
       "    <tr>\n",
       "      <th>1</th>\n",
       "      <td>ARFENDO</td>\n",
       "      <td>66</td>\n",
       "      <td>77</td>\n",
       "      <td>2</td>\n",
       "    </tr>\n",
       "    <tr>\n",
       "      <th>2</th>\n",
       "      <td>LATIFUDIN</td>\n",
       "      <td>25</td>\n",
       "      <td>33</td>\n",
       "      <td>0</td>\n",
       "    </tr>\n",
       "    <tr>\n",
       "      <th>3</th>\n",
       "      <td>HENDI</td>\n",
       "      <td>53</td>\n",
       "      <td>81</td>\n",
       "      <td>2</td>\n",
       "    </tr>\n",
       "    <tr>\n",
       "      <th>4</th>\n",
       "      <td>M. FERYAN</td>\n",
       "      <td>20</td>\n",
       "      <td>75</td>\n",
       "      <td>0</td>\n",
       "    </tr>\n",
       "    <tr>\n",
       "      <th>5</th>\n",
       "      <td>RENDI</td>\n",
       "      <td>100</td>\n",
       "      <td>94</td>\n",
       "      <td>1</td>\n",
       "    </tr>\n",
       "    <tr>\n",
       "      <th>6</th>\n",
       "      <td>NUREKA</td>\n",
       "      <td>55</td>\n",
       "      <td>69</td>\n",
       "      <td>2</td>\n",
       "    </tr>\n",
       "    <tr>\n",
       "      <th>7</th>\n",
       "      <td>INDRA</td>\n",
       "      <td>25</td>\n",
       "      <td>56</td>\n",
       "      <td>0</td>\n",
       "    </tr>\n",
       "    <tr>\n",
       "      <th>8</th>\n",
       "      <td>MOCH IDWAL</td>\n",
       "      <td>25</td>\n",
       "      <td>81</td>\n",
       "      <td>0</td>\n",
       "    </tr>\n",
       "    <tr>\n",
       "      <th>9</th>\n",
       "      <td>REYNO YUSUF</td>\n",
       "      <td>30</td>\n",
       "      <td>48</td>\n",
       "      <td>0</td>\n",
       "    </tr>\n",
       "    <tr>\n",
       "      <th>10</th>\n",
       "      <td>AHMAD MINANUL</td>\n",
       "      <td>15</td>\n",
       "      <td>45</td>\n",
       "      <td>0</td>\n",
       "    </tr>\n",
       "    <tr>\n",
       "      <th>11</th>\n",
       "      <td>AFIZZA</td>\n",
       "      <td>81</td>\n",
       "      <td>46</td>\n",
       "      <td>2</td>\n",
       "    </tr>\n",
       "    <tr>\n",
       "      <th>12</th>\n",
       "      <td>RIO</td>\n",
       "      <td>68</td>\n",
       "      <td>77</td>\n",
       "      <td>2</td>\n",
       "    </tr>\n",
       "    <tr>\n",
       "      <th>13</th>\n",
       "      <td>MUKHOZIN</td>\n",
       "      <td>72</td>\n",
       "      <td>50</td>\n",
       "      <td>2</td>\n",
       "    </tr>\n",
       "    <tr>\n",
       "      <th>14</th>\n",
       "      <td>ANDY</td>\n",
       "      <td>56</td>\n",
       "      <td>56</td>\n",
       "      <td>2</td>\n",
       "    </tr>\n",
       "    <tr>\n",
       "      <th>15</th>\n",
       "      <td>STIFEN ZURO</td>\n",
       "      <td>63</td>\n",
       "      <td>63</td>\n",
       "      <td>2</td>\n",
       "    </tr>\n",
       "    <tr>\n",
       "      <th>16</th>\n",
       "      <td>ROHMAT</td>\n",
       "      <td>100</td>\n",
       "      <td>69</td>\n",
       "      <td>1</td>\n",
       "    </tr>\n",
       "    <tr>\n",
       "      <th>17</th>\n",
       "      <td>SAFRUDINI</td>\n",
       "      <td>35</td>\n",
       "      <td>56</td>\n",
       "      <td>0</td>\n",
       "    </tr>\n",
       "    <tr>\n",
       "      <th>18</th>\n",
       "      <td>AFRIZAL AHMAD</td>\n",
       "      <td>55</td>\n",
       "      <td>33</td>\n",
       "      <td>0</td>\n",
       "    </tr>\n",
       "    <tr>\n",
       "      <th>19</th>\n",
       "      <td>MOHAMMAD HASIB</td>\n",
       "      <td>31</td>\n",
       "      <td>21</td>\n",
       "      <td>0</td>\n",
       "    </tr>\n",
       "    <tr>\n",
       "      <th>20</th>\n",
       "      <td>MUHAMMAD ENRICO</td>\n",
       "      <td>55</td>\n",
       "      <td>22</td>\n",
       "      <td>0</td>\n",
       "    </tr>\n",
       "    <tr>\n",
       "      <th>21</th>\n",
       "      <td>MOH. LUKKY</td>\n",
       "      <td>70</td>\n",
       "      <td>85</td>\n",
       "      <td>2</td>\n",
       "    </tr>\n",
       "    <tr>\n",
       "      <th>22</th>\n",
       "      <td>ADI ARISANDI</td>\n",
       "      <td>30</td>\n",
       "      <td>15</td>\n",
       "      <td>0</td>\n",
       "    </tr>\n",
       "    <tr>\n",
       "      <th>23</th>\n",
       "      <td>M LIBAA</td>\n",
       "      <td>25</td>\n",
       "      <td>81</td>\n",
       "      <td>0</td>\n",
       "    </tr>\n",
       "    <tr>\n",
       "      <th>24</th>\n",
       "      <td>ALIF NUZULUR</td>\n",
       "      <td>12</td>\n",
       "      <td>42</td>\n",
       "      <td>0</td>\n",
       "    </tr>\n",
       "    <tr>\n",
       "      <th>25</th>\n",
       "      <td>YOGA PERMATA</td>\n",
       "      <td>20</td>\n",
       "      <td>24</td>\n",
       "      <td>0</td>\n",
       "    </tr>\n",
       "    <tr>\n",
       "      <th>26</th>\n",
       "      <td>MOH. TAUFIK</td>\n",
       "      <td>72</td>\n",
       "      <td>94</td>\n",
       "      <td>2</td>\n",
       "    </tr>\n",
       "    <tr>\n",
       "      <th>27</th>\n",
       "      <td>DRAJAT AL AKBAR</td>\n",
       "      <td>25</td>\n",
       "      <td>0</td>\n",
       "      <td>0</td>\n",
       "    </tr>\n",
       "    <tr>\n",
       "      <th>28</th>\n",
       "      <td>MUHAMMAD ARDY</td>\n",
       "      <td>91</td>\n",
       "      <td>54</td>\n",
       "      <td>1</td>\n",
       "    </tr>\n",
       "    <tr>\n",
       "      <th>29</th>\n",
       "      <td>DWI BAGUS</td>\n",
       "      <td>60</td>\n",
       "      <td>88</td>\n",
       "      <td>2</td>\n",
       "    </tr>\n",
       "    <tr>\n",
       "      <th>30</th>\n",
       "      <td>SATRIA WAHYU</td>\n",
       "      <td>45</td>\n",
       "      <td>54</td>\n",
       "      <td>0</td>\n",
       "    </tr>\n",
       "    <tr>\n",
       "      <th>31</th>\n",
       "      <td>MOCH. ARIS</td>\n",
       "      <td>70</td>\n",
       "      <td>56</td>\n",
       "      <td>2</td>\n",
       "    </tr>\n",
       "    <tr>\n",
       "      <th>32</th>\n",
       "      <td>AQIL ALMUFARRID</td>\n",
       "      <td>100</td>\n",
       "      <td>63</td>\n",
       "      <td>1</td>\n",
       "    </tr>\n",
       "    <tr>\n",
       "      <th>33</th>\n",
       "      <td>ADHI NOVIANDHI</td>\n",
       "      <td>45</td>\n",
       "      <td>45</td>\n",
       "      <td>0</td>\n",
       "    </tr>\n",
       "    <tr>\n",
       "      <th>34</th>\n",
       "      <td>NIKEN</td>\n",
       "      <td>45</td>\n",
       "      <td>54</td>\n",
       "      <td>0</td>\n",
       "    </tr>\n",
       "    <tr>\n",
       "      <th>35</th>\n",
       "      <td>MOHAMMAD AZIZ</td>\n",
       "      <td>70</td>\n",
       "      <td>88</td>\n",
       "      <td>2</td>\n",
       "    </tr>\n",
       "    <tr>\n",
       "      <th>36</th>\n",
       "      <td>BADIYAH</td>\n",
       "      <td>45</td>\n",
       "      <td>45</td>\n",
       "      <td>0</td>\n",
       "    </tr>\n",
       "    <tr>\n",
       "      <th>37</th>\n",
       "      <td>M. RISKI</td>\n",
       "      <td>70</td>\n",
       "      <td>20</td>\n",
       "      <td>0</td>\n",
       "    </tr>\n",
       "    <tr>\n",
       "      <th>38</th>\n",
       "      <td>RIZAL DWI</td>\n",
       "      <td>100</td>\n",
       "      <td>81</td>\n",
       "      <td>1</td>\n",
       "    </tr>\n",
       "    <tr>\n",
       "      <th>39</th>\n",
       "      <td>RICKO</td>\n",
       "      <td>100</td>\n",
       "      <td>96</td>\n",
       "      <td>1</td>\n",
       "    </tr>\n",
       "    <tr>\n",
       "      <th>40</th>\n",
       "      <td>NUR SAM'UN</td>\n",
       "      <td>100</td>\n",
       "      <td>100</td>\n",
       "      <td>1</td>\n",
       "    </tr>\n",
       "    <tr>\n",
       "      <th>41</th>\n",
       "      <td>DIMAS GILANG</td>\n",
       "      <td>45</td>\n",
       "      <td>38</td>\n",
       "      <td>0</td>\n",
       "    </tr>\n",
       "    <tr>\n",
       "      <th>42</th>\n",
       "      <td>MUH. FADLIL</td>\n",
       "      <td>66</td>\n",
       "      <td>88</td>\n",
       "      <td>2</td>\n",
       "    </tr>\n",
       "    <tr>\n",
       "      <th>43</th>\n",
       "      <td>AL FAROSA</td>\n",
       "      <td>100</td>\n",
       "      <td>96</td>\n",
       "      <td>1</td>\n",
       "    </tr>\n",
       "    <tr>\n",
       "      <th>44</th>\n",
       "      <td>MIFTAH AHNAN</td>\n",
       "      <td>54</td>\n",
       "      <td>98</td>\n",
       "      <td>2</td>\n",
       "    </tr>\n",
       "    <tr>\n",
       "      <th>45</th>\n",
       "      <td>GIGIH JENOP</td>\n",
       "      <td>20</td>\n",
       "      <td>45</td>\n",
       "      <td>0</td>\n",
       "    </tr>\n",
       "    <tr>\n",
       "      <th>46</th>\n",
       "      <td>WAHYU</td>\n",
       "      <td>91</td>\n",
       "      <td>96</td>\n",
       "      <td>1</td>\n",
       "    </tr>\n",
       "    <tr>\n",
       "      <th>47</th>\n",
       "      <td>FATMA</td>\n",
       "      <td>41</td>\n",
       "      <td>54</td>\n",
       "      <td>0</td>\n",
       "    </tr>\n",
       "    <tr>\n",
       "      <th>48</th>\n",
       "      <td>ALISA</td>\n",
       "      <td>70</td>\n",
       "      <td>88</td>\n",
       "      <td>2</td>\n",
       "    </tr>\n",
       "    <tr>\n",
       "      <th>49</th>\n",
       "      <td>DIRGANTARA</td>\n",
       "      <td>84</td>\n",
       "      <td>62</td>\n",
       "      <td>2</td>\n",
       "    </tr>\n",
       "  </tbody>\n",
       "</table>\n",
       "</div>"
      ],
      "text/plain": [
       "          Mahasiswa  uts  uas  Cluster\n",
       "0             AHMAD   15   46        0\n",
       "1           ARFENDO   66   77        2\n",
       "2         LATIFUDIN   25   33        0\n",
       "3             HENDI   53   81        2\n",
       "4         M. FERYAN   20   75        0\n",
       "5             RENDI  100   94        1\n",
       "6            NUREKA   55   69        2\n",
       "7             INDRA   25   56        0\n",
       "8        MOCH IDWAL   25   81        0\n",
       "9       REYNO YUSUF   30   48        0\n",
       "10    AHMAD MINANUL   15   45        0\n",
       "11           AFIZZA   81   46        2\n",
       "12              RIO   68   77        2\n",
       "13         MUKHOZIN   72   50        2\n",
       "14             ANDY   56   56        2\n",
       "15      STIFEN ZURO   63   63        2\n",
       "16           ROHMAT  100   69        1\n",
       "17        SAFRUDINI   35   56        0\n",
       "18    AFRIZAL AHMAD   55   33        0\n",
       "19   MOHAMMAD HASIB   31   21        0\n",
       "20  MUHAMMAD ENRICO   55   22        0\n",
       "21       MOH. LUKKY   70   85        2\n",
       "22     ADI ARISANDI   30   15        0\n",
       "23          M LIBAA   25   81        0\n",
       "24     ALIF NUZULUR   12   42        0\n",
       "25     YOGA PERMATA   20   24        0\n",
       "26      MOH. TAUFIK   72   94        2\n",
       "27  DRAJAT AL AKBAR   25    0        0\n",
       "28    MUHAMMAD ARDY   91   54        1\n",
       "29        DWI BAGUS   60   88        2\n",
       "30     SATRIA WAHYU   45   54        0\n",
       "31       MOCH. ARIS   70   56        2\n",
       "32  AQIL ALMUFARRID  100   63        1\n",
       "33   ADHI NOVIANDHI   45   45        0\n",
       "34            NIKEN   45   54        0\n",
       "35    MOHAMMAD AZIZ   70   88        2\n",
       "36          BADIYAH   45   45        0\n",
       "37         M. RISKI   70   20        0\n",
       "38        RIZAL DWI  100   81        1\n",
       "39            RICKO  100   96        1\n",
       "40       NUR SAM'UN  100  100        1\n",
       "41     DIMAS GILANG   45   38        0\n",
       "42      MUH. FADLIL   66   88        2\n",
       "43        AL FAROSA  100   96        1\n",
       "44     MIFTAH AHNAN   54   98        2\n",
       "45      GIGIH JENOP   20   45        0\n",
       "46            WAHYU   91   96        1\n",
       "47            FATMA   41   54        0\n",
       "48            ALISA   70   88        2\n",
       "49       DIRGANTARA   84   62        2"
      ]
     },
     "execution_count": 39,
     "metadata": {},
     "output_type": "execute_result"
    }
   ],
   "source": [
    "dfmhs"
   ]
  },
  {
   "cell_type": "code",
   "execution_count": 41,
   "id": "7608145d-45b8-41ea-9f72-e6cc50ae3597",
   "metadata": {},
   "outputs": [
    {
     "data": {
      "text/plain": [
       "array([[0.24195076, 0.43041667],\n",
       "       [0.97727273, 0.83222222],\n",
       "       [0.61898396, 0.74470588]])"
      ]
     },
     "execution_count": 41,
     "metadata": {},
     "output_type": "execute_result"
    }
   ],
   "source": [
    "kmean.cluster_centers_"
   ]
  },
  {
   "cell_type": "code",
   "execution_count": 43,
   "id": "63d0d04c-5820-4b54-a9fe-ef3a4485e849",
   "metadata": {},
   "outputs": [],
   "source": [
    "#Visualisasi Data Hasil Clustering"
   ]
  },
  {
   "cell_type": "code",
   "execution_count": 45,
   "id": "ea69d7ac-363d-43c3-a443-bda52eab8048",
   "metadata": {},
   "outputs": [
    {
     "data": {
      "image/png": "[encoded data removed]",
      "text/plain": [
       "<Figure size 1000x500 with 1 Axes>"
      ]
     },
     "metadata": {},
     "output_type": "display_data"
    }
   ],
   "source": [
    "import matplotlib.pyplot as plt\n",
    "from sklearn.cluster import KMeans\n",
    "import numpy as np\n",
    "\n",
    "x_train = np.array([[1, 2], [3, 4], [5, 6]])\n",
    "\n",
    "\n",
    "n_init = 10 \n",
    "\n",
    "kmean = KMeans(n_clusters=2, n_init=n_init)\n",
    "kmean.fit(x_train)\n",
    "\n",
    "plt.figure(figsize=(10, 5))\n",
    "\n",
    "plt.scatter(x_train[:, 0], x_train[:, 1], c=kmean.labels_, cmap='viridis', label='Data Points')\n",
    "\n",
    "plt.scatter(kmean.cluster_centers_[:, 0], kmean.cluster_centers_[:, 1], marker='*', s=150, c='red', label='Centroids')\n",
    "\n",
    "plt.title('KMeans Clustering')\n",
    "plt.xlabel('UTS')\n",
    "plt.ylabel('UAS')\n",
    "plt.legend()\n",
    "plt.show()\n"
   ]
  },
  {
   "cell_type": "code",
   "execution_count": 14,
   "id": "da532a9c-a0e9-4878-9dee-924730a474db",
   "metadata": {},
   "outputs": [
    {
     "name": "stdout",
     "output_type": "stream",
     "text": [
      "Labels klaster: [2 0 1]\n",
      "Pusat klaster: [[3. 4.]\n",
      " [5. 6.]\n",
      " [1. 2.]]\n"
     ]
    }
   ],
   "source": [
    "from sklearn.cluster import KMeans\n",
    "import numpy as np\n",
    "\n",
    "x_train = np.array([[1, 2], [3, 4], [5, 6]])\n",
    "\n",
    "n_clusters = 3\n",
    "\n",
    "km = KMeans(n_clusters=n_clusters, n_init=10)\n",
    "\n",
    "km.fit(x_train)\n",
    "\n",
    "labels = km.labels_\n",
    "print(\"Labels klaster:\", labels)\n",
    "\n",
    "centers = km.cluster_centers_\n",
    "print(\"Pusat klaster:\", centers)\n"
   ]
  },
  {
   "cell_type": "code",
   "execution_count": 69,
   "id": "a0fab89e-13b8-4d7e-992d-3b42d83c599e",
   "metadata": {},
   "outputs": [
    {
     "data": {
      "text/plain": [
       "[7.842257805785124,\n",
       " 3.1977734049586775,\n",
       " 2.4267319466388484,\n",
       " 1.7892498013189746,\n",
       " 1.2999277672706084,\n",
       " 0.9647108338252657,\n",
       " 0.7766911565328611,\n",
       " 0.5653348005214482,\n",
       " 0.4363772756788665]"
      ]
     },
     "execution_count": 69,
     "metadata": {},
     "output_type": "execute_result"
    }
   ],
   "source": [
    "inertias"
   ]
  },
  {
   "cell_type": "code",
   "execution_count": 71,
   "id": "f19a41e7-7455-49db-a4a8-8aa64d15825e",
   "metadata": {},
   "outputs": [
    {
     "data": {
      "image/png": "[encoded data removed]",
      "text/plain": [
       "<Figure size 640x480 with 1 Axes>"
      ]
     },
     "metadata": {},
     "output_type": "display_data"
    }
   ],
   "source": [
    "plt.xlabel(\"k\")\n",
    "plt.ylabel(\"Sum of error\")\n",
    "plt.plot(k_range, inertias)\n",
    "plt.grid()"
   ]
  },
  {
   "cell_type": "code",
   "execution_count": 35,
   "id": "57526d0a-0f10-4e4e-8bf2-d219d7865748",
   "metadata": {},
   "outputs": [],
   "source": [
    "import pandas as pd\n",
    "\n",
    "data = {'Cluster': [0, 1, 0, 1, 0]}\n",
    "dfmhs = pd.DataFrame(data)\n",
    "\n",
    "dfmhs['Cluster'] = dfmhs['Cluster'].replace([0, 1], ['Kurang', 'Baik'])"
   ]
  },
  {
   "cell_type": "code",
   "execution_count": null,
   "id": "55ab60a3-a259-49d4-b079-6d50c666407e",
   "metadata": {},
   "outputs": [],
   "source": []
  }
 ],
 "metadata": {
  "kernelspec": {
   "display_name": "anaconda-2024.02-py310",
   "language": "python",
   "name": "conda-env-anaconda-2024.02-py310-py"
  },
  "language_info": {
   "codemirror_mode": {
    "name": "ipython",
    "version": 3
   },
   "file_extension": ".py",
   "mimetype": "text/x-python",
   "name": "python",
   "nbconvert_exporter": "python",
   "pygments_lexer": "ipython3",
   "version": "3.10.14"
  }
 },
 "nbformat": 4,
 "nbformat_minor": 5
}
